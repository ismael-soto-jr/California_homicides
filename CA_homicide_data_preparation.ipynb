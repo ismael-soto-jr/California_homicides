{
 "cells": [
  {
   "cell_type": "code",
   "execution_count": null,
   "id": "b496e387",
   "metadata": {},
   "outputs": [],
   "source": [
    "import os\n",
    "import numpy as np\n",
    "import pandas as pd\n",
    "import seaborn as sns\n",
    "\n",
    "import matplotlib.pyplot as plt\n",
    "%matplotlib inline"
   ]
  },
  {
   "cell_type": "code",
   "execution_count": null,
   "id": "4bb155ad",
   "metadata": {},
   "outputs": [],
   "source": [
    "df2 = pd.read_csv('HomicideActuals1987-2022.csv', low_memory=False)\n",
    "\n",
    "\n",
    "df2.info()\n"
   ]
  },
  {
   "cell_type": "code",
   "execution_count": null,
   "id": "26bd6e2f",
   "metadata": {},
   "outputs": [],
   "source": [
    "df2.head()"
   ]
  },
  {
   "cell_type": "code",
   "execution_count": null,
   "id": "bc519f97",
   "metadata": {},
   "outputs": [],
   "source": [
    "df2['Inc YR'].unique()"
   ]
  },
  {
   "cell_type": "code",
   "execution_count": null,
   "id": "bab3f58d",
   "metadata": {},
   "outputs": [],
   "source": [
    "df2.isnull().sum()"
   ]
  },
  {
   "cell_type": "code",
   "execution_count": null,
   "id": "a69551fb",
   "metadata": {},
   "outputs": [],
   "source": [
    "df2['Inc YR'].value_counts()"
   ]
  },
  {
   "cell_type": "code",
   "execution_count": null,
   "id": "d754877a",
   "metadata": {},
   "outputs": [],
   "source": [
    "df2.dtypes"
   ]
  },
  {
   "cell_type": "code",
   "execution_count": null,
   "id": "4aac7a81",
   "metadata": {},
   "outputs": [],
   "source": [
    "pd.set_option('display.max_columns', None)"
   ]
  },
  {
   "cell_type": "code",
   "execution_count": null,
   "id": "105c059e",
   "metadata": {},
   "outputs": [],
   "source": [
    "!head 'HomicideActuals1987-2022.csv'"
   ]
  },
  {
   "cell_type": "code",
   "execution_count": null,
   "id": "3ad285bb",
   "metadata": {},
   "outputs": [],
   "source": [
    "df2.loc[df2.duplicated(keep=False)]"
   ]
  },
  {
   "cell_type": "code",
   "execution_count": null,
   "id": "cf67579d",
   "metadata": {},
   "outputs": [],
   "source": [
    "print(len(df2))\n",
    "df2 = df2.drop_duplicates()\n",
    "print(len(df2))"
   ]
  },
  {
   "cell_type": "markdown",
   "id": "256e7d2f",
   "metadata": {},
   "source": [
    "# Creating filtered  since 2018 dataset called df"
   ]
  },
  {
   "cell_type": "code",
   "execution_count": null,
   "id": "aa127956",
   "metadata": {},
   "outputs": [],
   "source": [
    "df = df2[df2['Inc YR'] > 2017].copy()\n",
    "df = df.reset_index(drop=True)\n",
    "df.info()"
   ]
  },
  {
   "cell_type": "code",
   "execution_count": null,
   "id": "f689a71b",
   "metadata": {},
   "outputs": [],
   "source": [
    "df.describe()"
   ]
  },
  {
   "cell_type": "code",
   "execution_count": null,
   "id": "a2abf951",
   "metadata": {},
   "outputs": [],
   "source": [
    "df.columns"
   ]
  },
  {
   "cell_type": "code",
   "execution_count": null,
   "id": "84062a3b",
   "metadata": {},
   "outputs": [],
   "source": [
    "df.isnull().sum()"
   ]
  },
  {
   "cell_type": "code",
   "execution_count": null,
   "id": "64c511b9",
   "metadata": {},
   "outputs": [],
   "source": [
    "df.isna().sum()"
   ]
  },
  {
   "cell_type": "code",
   "execution_count": null,
   "id": "807cb5e4",
   "metadata": {},
   "outputs": [],
   "source": [
    "df.shape"
   ]
  },
  {
   "cell_type": "code",
   "execution_count": null,
   "id": "900301ee",
   "metadata": {},
   "outputs": [],
   "source": [
    "df.nunique()"
   ]
  },
  {
   "cell_type": "code",
   "execution_count": null,
   "id": "aa1d3aa9",
   "metadata": {},
   "outputs": [],
   "source": [
    "df['Inc YR'].unique()"
   ]
  },
  {
   "cell_type": "markdown",
   "id": "21d12a75",
   "metadata": {},
   "source": [
    "# Renaming some columns"
   ]
  },
  {
   "cell_type": "code",
   "execution_count": null,
   "id": "17067d09",
   "metadata": {},
   "outputs": [],
   "source": [
    "# Rename our columns\n",
    "df = df.rename(columns={'CO': 'County_Codes', 'NCIC':'NCIC_Agency_Codes',\n",
    "                        'BCS': 'BCS_number', 'vict num': 'Victim_number',\n",
    "                        'Rpt MO' : 'Rpt_mo', 'Rpt YR': 'Rpt_YR', \n",
    "                        'Tot vic': 'Total_victims', 'Tot susp':'Total_suspects',\n",
    "                        'V sex': 'Gender', 'V race': 'Victim_Race', 'V age': 'Victim_Age', \n",
    "                        'Crm Stat': 'Crime_status','Inc MO':'Incident_Month',\n",
    "                        'Inc day': 'Inc_day', 'Inc YR': 'Inc_YR', 'Week day': 'Week_day',\n",
    "                        'death YR': \"death_YR\", 'Loc': 'Location', 'PE 1': 'Precipitating_event', \"Spec Circ 1\": 'Spec_Circ_1'})\n",
    "\n",
    "\n"
   ]
  },
  {
   "cell_type": "markdown",
   "id": "99fd269f",
   "metadata": {},
   "source": [
    "## Examining Missing Values"
   ]
  },
  {
   "cell_type": "code",
   "execution_count": null,
   "id": "212b3019",
   "metadata": {},
   "outputs": [],
   "source": [
    "missing_percentages = df.isna().sum().sort_values(ascending=False) / len(df)\n",
    "missing_percentages"
   ]
  },
  {
   "cell_type": "code",
   "execution_count": null,
   "id": "b385e372",
   "metadata": {},
   "outputs": [],
   "source": [
    "numerics = ['int16', 'int32', 'int64', 'float16', 'float32', 'float64']\n",
    "\n",
    "numeric_df = df.select_dtypes(include=numerics)\n",
    "len(numeric_df.columns)"
   ]
  },
  {
   "cell_type": "code",
   "execution_count": null,
   "id": "9c60e0de",
   "metadata": {},
   "outputs": [],
   "source": [
    "missing_percentages[missing_percentages != 0].plot(kind='barh')"
   ]
  },
  {
   "cell_type": "markdown",
   "id": "973ac90c",
   "metadata": {},
   "source": [
    "# Initial - Filling in missing values"
   ]
  },
  {
   "cell_type": "markdown",
   "id": "922d4789",
   "metadata": {},
   "source": [
    "Recoded variables per Data documentation:\n",
    "    na values = 'Value not reported'"
   ]
  },
  {
   "cell_type": "code",
   "execution_count": null,
   "id": "cbcdd4c4",
   "metadata": {},
   "outputs": [],
   "source": [
    "df.fillna('Value not reported', inplace=True)"
   ]
  },
  {
   "cell_type": "code",
   "execution_count": null,
   "id": "93ef6a31",
   "metadata": {},
   "outputs": [],
   "source": [
    "#no duplicates detected\n",
    "df.loc[df.duplicated(keep=False)]"
   ]
  },
  {
   "cell_type": "markdown",
   "id": "5cdc7fe0",
   "metadata": {},
   "source": [
    "Recoding the gender variable as:"
   ]
  },
  {
   "cell_type": "code",
   "execution_count": null,
   "id": "0c561ddb",
   "metadata": {},
   "outputs": [],
   "source": [
    "df['Gender'].replace(0, 'Unknown', inplace=True)\n",
    "df['Gender'].replace(1, 'Male', inplace=True)\n",
    "df['Gender'].replace(2, 'Female', inplace=True)\n",
    "\n"
   ]
  },
  {
   "cell_type": "code",
   "execution_count": null,
   "id": "b1eba7cf",
   "metadata": {},
   "outputs": [],
   "source": [
    "df['Gender'].unique()"
   ]
  },
  {
   "cell_type": "code",
   "execution_count": null,
   "id": "abd8b517",
   "metadata": {},
   "outputs": [],
   "source": [
    "df['Gender'] = df['Gender'].astype(str)\n"
   ]
  },
  {
   "cell_type": "code",
   "execution_count": null,
   "id": "9a7c12f5",
   "metadata": {},
   "outputs": [],
   "source": [
    "df.columns"
   ]
  },
  {
   "cell_type": "code",
   "execution_count": null,
   "id": "29a3e989",
   "metadata": {},
   "outputs": [],
   "source": [
    "features = ['County_Codes', 'NCIC_Agency_Codes', 'BCS_number', 'Victim_number',\n",
    "       'Rpt_mo', 'Rpt_YR', 'Total_victims', 'Total_suspects', 'Gender',\n",
    "       'Victim_Race', 'Victim_Age', 'Crime_status', 'VO_1', 'VO_2', 'VO_3',\n",
    "       'VO_4', 'Incident_Month', 'Inc_day', 'Inc_YR', 'Week_day', 'death_YR',\n",
    "       'Weap', 'Location', 'Precipitating_event', 'Spec_Circ_1']\n",
    "\n",
    "for feature in features:\n",
    "    null_check = pd.isnull(df[feature])\n",
    "    print(df[null_check])"
   ]
  },
  {
   "cell_type": "markdown",
   "id": "011e1440",
   "metadata": {},
   "source": [
    "## Recoding the Age variable"
   ]
  },
  {
   "cell_type": "code",
   "execution_count": null,
   "id": "3127d7e9",
   "metadata": {},
   "outputs": [],
   "source": [
    "df['Victim_Age'].unique()"
   ]
  },
  {
   "cell_type": "code",
   "execution_count": null,
   "id": "d4370c77",
   "metadata": {},
   "outputs": [],
   "source": [
    "\n",
    "df['Victim_Age'].replace('BB', 'One week to 12 months', inplace=True)\n",
    "df['Victim_Age'].replace('NB', 'Birth to one week', inplace=True)\n",
    "df['Victim_Age'].replace('99', '99 or over', inplace=True)\n",
    "df['Victim_Age'].replace('0', 'Unknown', inplace=True)"
   ]
  },
  {
   "cell_type": "code",
   "execution_count": null,
   "id": "609fa1e7",
   "metadata": {},
   "outputs": [],
   "source": [
    "df[\"Victim_Age\"].unique()"
   ]
  },
  {
   "cell_type": "markdown",
   "id": "253c0a23",
   "metadata": {},
   "source": [
    "# Cleaning the NCIC Agency Codes"
   ]
  },
  {
   "cell_type": "code",
   "execution_count": null,
   "id": "817a695a",
   "metadata": {},
   "outputs": [],
   "source": [
    "df['NCIC_Agency_Codes'].unique()"
   ]
  },
  {
   "cell_type": "code",
   "execution_count": null,
   "id": "8d9d1683",
   "metadata": {},
   "outputs": [],
   "source": [
    "df['NCIC_Agency_Codes'].isna().sum()"
   ]
  },
  {
   "cell_type": "code",
   "execution_count": null,
   "id": "dae93cc0",
   "metadata": {},
   "outputs": [],
   "source": [
    "df[df['NCIC_Agency_Codes'] == 'Value not reported']"
   ]
  },
  {
   "cell_type": "markdown",
   "id": "1a2fae78",
   "metadata": {},
   "source": [
    "# Cleaning BCS number"
   ]
  },
  {
   "cell_type": "code",
   "execution_count": null,
   "id": "a55dfde7",
   "metadata": {},
   "outputs": [],
   "source": [
    "df['BCS_number'].isna().sum()"
   ]
  },
  {
   "cell_type": "code",
   "execution_count": null,
   "id": "73cd6eae",
   "metadata": {},
   "outputs": [],
   "source": [
    "df['BCS_number'].unique()"
   ]
  },
  {
   "cell_type": "code",
   "execution_count": null,
   "id": "6a7d206f",
   "metadata": {},
   "outputs": [],
   "source": [
    "df['BCS'] = df['BCS_number']"
   ]
  },
  {
   "cell_type": "code",
   "execution_count": null,
   "id": "e1e83ef1",
   "metadata": {},
   "outputs": [],
   "source": [
    "df['BCS'].replace('Value not reported', 99999, inplace=True)"
   ]
  },
  {
   "cell_type": "code",
   "execution_count": null,
   "id": "569a1587",
   "metadata": {},
   "outputs": [],
   "source": [
    "df['BCS'] = df['BCS'].astype(int)"
   ]
  },
  {
   "cell_type": "code",
   "execution_count": null,
   "id": "5944760a",
   "metadata": {},
   "outputs": [],
   "source": [
    "df['BCS'].unique()"
   ]
  },
  {
   "cell_type": "code",
   "execution_count": null,
   "id": "4c94016c",
   "metadata": {},
   "outputs": [],
   "source": [
    "df.isna().sum()"
   ]
  },
  {
   "cell_type": "code",
   "execution_count": null,
   "id": "ada8860c",
   "metadata": {},
   "outputs": [],
   "source": [
    "df.nunique()"
   ]
  },
  {
   "cell_type": "markdown",
   "id": "439a4ee8",
   "metadata": {},
   "source": [
    "# Cleaning Race variable"
   ]
  },
  {
   "cell_type": "code",
   "execution_count": null,
   "id": "c978c6e5",
   "metadata": {},
   "outputs": [],
   "source": [
    "df['Victim_Race'].unique()"
   ]
  },
  {
   "cell_type": "code",
   "execution_count": null,
   "id": "1795488f",
   "metadata": {},
   "outputs": [],
   "source": [
    "df['Victim_Race'].replace(['H', 'X', 'W', 'B', 'A', 'O', 'U', 'I', 'C', 'S', 'D', 'P', 'F', 'V', 'Z', 'K', 'J', 'L', 'G'], \n",
    "                   ['Hispanic', 'Unkown', 'White', 'Black', 'Other Asian', 'Other', 'Hawaiian', 'American Indian', 'Chinese','Samoan',\n",
    "                   'Cambodian', 'Pacific Islander', 'Filipino', 'Vietnamese', 'Asian Indian', 'Korean','Japanese','Laotian', 'Guamanian'],\n",
    "                   inplace=True)\n",
    "\n"
   ]
  },
  {
   "cell_type": "code",
   "execution_count": null,
   "id": "02e38b3b",
   "metadata": {},
   "outputs": [],
   "source": [
    "df['Victim_Race'].unique()"
   ]
  },
  {
   "cell_type": "markdown",
   "id": "bef5a27b",
   "metadata": {},
   "source": [
    "# Crime Status\n",
    "## only includes Actual/willful homicide"
   ]
  },
  {
   "cell_type": "code",
   "execution_count": null,
   "id": "af92e34e",
   "metadata": {},
   "outputs": [],
   "source": [
    "df['Crime_status'].unique()"
   ]
  },
  {
   "cell_type": "code",
   "execution_count": null,
   "id": "7473f617",
   "metadata": {},
   "outputs": [],
   "source": [
    "df['Crime_status'].replace(1,'Actual/Willful Homicide' , inplace=True)"
   ]
  },
  {
   "cell_type": "markdown",
   "id": "b6d9822a",
   "metadata": {},
   "source": [
    "# Recoding Victim Offender Relationship with full text description per data documentation"
   ]
  },
  {
   "cell_type": "code",
   "execution_count": null,
   "id": "b2c51bed",
   "metadata": {},
   "outputs": [],
   "source": [
    "VO_1 = [30.0, 50.0, 21.0, 40.0, 2.0, 23.0, 45.0, 20.0, 1.0, 28.0, 5.0,\n",
    "       16.0, 9.0, 4.0, 6.0, 27.0, 26.0, 11.0, 8.0, 7.0, 10.0, 22.0, 12.0,\n",
    "       25.0, 29.0, 14.0, 15.0, 24.0, 13.0, 3.0]\n",
    "\n",
    "VO_1.sort(key = float)\n",
    "VO_1"
   ]
  },
  {
   "cell_type": "code",
   "execution_count": null,
   "id": "be981268",
   "metadata": {},
   "outputs": [],
   "source": [
    "VO_2 = ['Husband',\n",
    "        'Wife',\n",
    "        'Common-law husband',\n",
    "        'Common-law wife',\n",
    "        'Mother',\n",
    "        'Father',\n",
    "        'Son',\n",
    "        'Daughter',\n",
    "        'Brother',\n",
    "        'Sister',\n",
    "        'In-law',\n",
    "        'Stepfather',\n",
    "        'Stepmother',\n",
    "        'Stepson',\n",
    "        'Stepdaughter',\n",
    "        'Other family',\n",
    "        'Neighbor',\n",
    "        'Acquaintance',\n",
    "       ' Boyfriend/Ex-Boyfriend',\n",
    "       ' Girlfriend/Ex-Girlfriend',\n",
    "        'Ex-husband',\n",
    "        'Ex-wife',\n",
    "        'Employer',\n",
    "        'Employee',\n",
    "        'Friend',\n",
    "        'Homosexual relationship',\n",
    "        'Other known to Victim',\n",
    "        'Stranger',\n",
    "        'Gang member (Beginning,1992)',\n",
    "        'Unable to determine relationship']\n",
    "\n",
    "\n",
    "\n"
   ]
  },
  {
   "cell_type": "code",
   "execution_count": null,
   "id": "0299ea15",
   "metadata": {},
   "outputs": [],
   "source": [
    "df['Victim_Offender_Relationship_1'] = df['VO_1']\n"
   ]
  },
  {
   "cell_type": "code",
   "execution_count": null,
   "id": "16876e0f",
   "metadata": {},
   "outputs": [],
   "source": [
    "df['Victim_Offender_Relationship_1'].replace(VO_1,\n",
    "                   VO_2,\n",
    "                   inplace=True)\n"
   ]
  },
  {
   "cell_type": "code",
   "execution_count": null,
   "id": "c50a5c4e",
   "metadata": {},
   "outputs": [],
   "source": [
    "df['Victim_Offender_Relationship_1'].unique()"
   ]
  },
  {
   "cell_type": "markdown",
   "id": "1a88c48d",
   "metadata": {},
   "source": [
    "# Recoding Week Day variable from code to full text"
   ]
  },
  {
   "cell_type": "code",
   "execution_count": null,
   "id": "f4861ea6",
   "metadata": {},
   "outputs": [],
   "source": [
    "df['Week_day'].unique()"
   ]
  },
  {
   "cell_type": "code",
   "execution_count": null,
   "id": "9f56cc5d",
   "metadata": {},
   "outputs": [],
   "source": [
    "df['Week_day'].replace([1.0, 2.0, 3.0, 4.0, 5.0, 6.0, 7.0], \n",
    "                       ['Sunday', 'Monday', 'Tuesday', 'Wednesday', 'Thursday','Friday', 'Saturday'], \n",
    "                        inplace=True)"
   ]
  },
  {
   "cell_type": "code",
   "execution_count": null,
   "id": "85dedc6d",
   "metadata": {},
   "outputs": [],
   "source": [
    "df['Week_day'].unique()"
   ]
  },
  {
   "cell_type": "markdown",
   "id": "aebb7847",
   "metadata": {},
   "source": [
    "#  Incident Month\n",
    "will keep as is for now"
   ]
  },
  {
   "cell_type": "code",
   "execution_count": null,
   "id": "813942a2",
   "metadata": {},
   "outputs": [],
   "source": [
    "df['Incident_Month'].unique()"
   ]
  },
  {
   "cell_type": "code",
   "execution_count": null,
   "id": "5e65f358",
   "metadata": {},
   "outputs": [],
   "source": [
    "df['Incident_Month'].dtype"
   ]
  },
  {
   "cell_type": "markdown",
   "id": "09d2a151",
   "metadata": {},
   "source": [
    "# Recoding Precipitaing event "
   ]
  },
  {
   "cell_type": "code",
   "execution_count": null,
   "id": "40153462",
   "metadata": {},
   "outputs": [],
   "source": [
    "df['Precipitating_event'].unique()"
   ]
  },
  {
   "cell_type": "code",
   "execution_count": null,
   "id": "5adef58e",
   "metadata": {},
   "outputs": [],
   "source": [
    "df['Precipitating_event'].dtype"
   ]
  },
  {
   "cell_type": "code",
   "execution_count": null,
   "id": "8b08277c",
   "metadata": {},
   "outputs": [],
   "source": [
    "Perc_event_codes = [99,  3, 26, 62, 63, 46, 45, 18, 47,  7, 70, 43, 44, 48, 42, 60, 61, 40,  5,  2,  9, 19, 10, 41,  6, 17]\n",
    "Perc_event_codes\n",
    "\n"
   ]
  },
  {
   "cell_type": "code",
   "execution_count": null,
   "id": "a2588953",
   "metadata": {},
   "outputs": [],
   "source": [
    "Perc_event_codes.sort(key = int)\n",
    "Perc_event_codes"
   ]
  },
  {
   "cell_type": "code",
   "execution_count": null,
   "id": "2f8be01c",
   "metadata": {},
   "outputs": [],
   "source": [
    "Perc_events = ['Rape',\n",
    "        'Robbery',\n",
    "        'Burglary',\n",
    "        'Larceny',\n",
    "        'Motor vehicle theft',\n",
    "        'Arson',\n",
    "        'Prostitution and commercial vice (i.e., prostitute killed by pimp during argument over money)',\n",
    "        'Other sex offense (sodomy, etc.)',\n",
    "        'Narcotic drug laws (not overdose)',\n",
    "        'Gambling',\n",
    "        'Other not specified (kidnapping, murder for hire)',\n",
    "        'Lover''s triangle',\n",
    "        'Child killed by babysitter',\n",
    "        'Brawl due to influence of alcohol (i.e., argument while intoxicated)',\n",
    "        'Brawl due to influence of narcotics (i.e., argument while under the influence)',\n",
    "        'Argument over money or property (revenge over money or property)',\n",
    "        'Other arguments (revenge)',\n",
    "        'Execution killing(s)',\n",
    "        'Gang killing(s) (street gangs, motorcycle gangs)',\n",
    "        'Institutional killing(s) (jail, prison, state hospital)',\n",
    "        'Other - non-felony (mercy killing, suicide pacts, mentally deranged offender)',\n",
    "        'Child abuse',\n",
    "        'Domestic Violence (1992) (Revised June 2023)',\n",
    "        'Drive-by Shooting (unspecified) (1996)',\n",
    "        'All - suspected felony type',\n",
    "        'All instances where facts provided do not permit determination of circumstances (skeletal remains)',\n",
    "        ]"
   ]
  },
  {
   "cell_type": "code",
   "execution_count": null,
   "id": "5a3576f1",
   "metadata": {},
   "outputs": [],
   "source": [
    "Perc_events"
   ]
  },
  {
   "cell_type": "code",
   "execution_count": null,
   "id": "4c2eea2f",
   "metadata": {},
   "outputs": [],
   "source": [
    "df['Precipitating_event'].replace(Perc_event_codes,\n",
    "                   Perc_events,\n",
    "                   inplace=True)"
   ]
  },
  {
   "cell_type": "code",
   "execution_count": null,
   "id": "fe7a81f5",
   "metadata": {},
   "outputs": [],
   "source": [
    "df['Precipitating_event'].unique()"
   ]
  },
  {
   "cell_type": "markdown",
   "id": "ab5b9afc",
   "metadata": {},
   "source": [
    "# Creating incident date variable as datetime dtype"
   ]
  },
  {
   "cell_type": "code",
   "execution_count": null,
   "id": "5b03d07c",
   "metadata": {},
   "outputs": [],
   "source": [
    "df['date'] = pd.to_datetime(dict(year=df.Inc_YR, month=df.Incident_Month, day=df.Inc_day))\n"
   ]
  },
  {
   "cell_type": "code",
   "execution_count": null,
   "id": "b55cb1a1",
   "metadata": {},
   "outputs": [],
   "source": [
    "df.info()"
   ]
  },
  {
   "cell_type": "code",
   "execution_count": null,
   "id": "e0e3015c",
   "metadata": {},
   "outputs": [],
   "source": [
    "df.head()"
   ]
  },
  {
   "cell_type": "markdown",
   "id": "1599fe18",
   "metadata": {},
   "source": [
    "# Getting NCIC Codes for location mapping\n",
    "## will only use county level analysis here"
   ]
  },
  {
   "cell_type": "code",
   "execution_count": null,
   "id": "e6f18891",
   "metadata": {},
   "outputs": [],
   "source": [
    "NCIC = pd.read_excel(\"NCIC Code Jurisdiction List_04242023.xlsx\")\n",
    "NCIC.head()"
   ]
  },
  {
   "cell_type": "code",
   "execution_count": null,
   "id": "0f4c7ee8",
   "metadata": {},
   "outputs": [],
   "source": [
    "NCIC.info()"
   ]
  },
  {
   "cell_type": "code",
   "execution_count": null,
   "id": "d9372a36",
   "metadata": {},
   "outputs": [],
   "source": [
    "NCIC.sort_values(by='CntyCode', ascending = True, inplace = True)\n",
    "NCIC.head()"
   ]
  },
  {
   "cell_type": "code",
   "execution_count": null,
   "id": "0f9c38a0",
   "metadata": {},
   "outputs": [],
   "source": [
    "county_codes = NCIC[['CntyCode','County']]"
   ]
  },
  {
   "cell_type": "code",
   "execution_count": null,
   "id": "ca6bcb15",
   "metadata": {},
   "outputs": [],
   "source": [
    "county_codes.drop_duplicates()"
   ]
  },
  {
   "cell_type": "code",
   "execution_count": null,
   "id": "f5d8cfb5",
   "metadata": {},
   "outputs": [],
   "source": [
    "county_codes.reset_index()"
   ]
  },
  {
   "cell_type": "code",
   "execution_count": null,
   "id": "c1fbde03",
   "metadata": {},
   "outputs": [],
   "source": [
    "county_codes.info()"
   ]
  },
  {
   "cell_type": "code",
   "execution_count": null,
   "id": "7b0131bc",
   "metadata": {},
   "outputs": [],
   "source": [
    "county_codes = county_codes.drop_duplicates()\n",
    "county_codes = county_codes.reset_index(drop=True)\n",
    "county_codes"
   ]
  },
  {
   "cell_type": "code",
   "execution_count": null,
   "id": "f5d711cc",
   "metadata": {},
   "outputs": [],
   "source": [
    "# Rename our columns\n",
    "county_codes = county_codes.rename(columns={'CntyCode' : 'County_Codes'})\n",
    "\n"
   ]
  },
  {
   "cell_type": "code",
   "execution_count": null,
   "id": "4958a392",
   "metadata": {},
   "outputs": [],
   "source": [
    "df = pd.merge(df, county_codes, how='outer', on='County_Codes')"
   ]
  },
  {
   "cell_type": "code",
   "execution_count": null,
   "id": "ca9a367a",
   "metadata": {},
   "outputs": [],
   "source": [
    "df.info()"
   ]
  },
  {
   "cell_type": "code",
   "execution_count": null,
   "id": "9ee2299f",
   "metadata": {
    "scrolled": true
   },
   "outputs": [],
   "source": [
    "df.replace({pd.NaT: None}, inplace=True)\n"
   ]
  },
  {
   "cell_type": "code",
   "execution_count": null,
   "id": "606330a6",
   "metadata": {},
   "outputs": [],
   "source": [
    "homicide_df = df[['Gender','Victim_Race', 'Victim_Age', 'Incident_Month', 'Inc_YR', 'Week_day',\n",
    "       'Precipitating_event','Victim_Offender_Relationship_1', 'date', 'County']]"
   ]
  },
  {
   "cell_type": "code",
   "execution_count": null,
   "id": "b6609ba3",
   "metadata": {},
   "outputs": [],
   "source": [
    "homicide_df = homicide_df[homicide_df['Inc_YR'].notnull()].reset_index(drop=True)"
   ]
  },
  {
   "cell_type": "code",
   "execution_count": null,
   "id": "7aad8649",
   "metadata": {},
   "outputs": [],
   "source": [
    "homicide_df.info()"
   ]
  },
  {
   "cell_type": "markdown",
   "id": "dea2a28a",
   "metadata": {},
   "source": [
    "# This is the final csv file we will use with all selected observations and columns"
   ]
  },
  {
   "cell_type": "code",
   "execution_count": null,
   "id": "5dfcc265",
   "metadata": {},
   "outputs": [],
   "source": [
    "homicide_df.head()"
   ]
  },
  {
   "cell_type": "code",
   "execution_count": null,
   "id": "b0bca531",
   "metadata": {},
   "outputs": [],
   "source": [
    "homicide_df.to_csv('homicide.csv')"
   ]
  }
 ],
 "metadata": {
  "kernelspec": {
   "display_name": "Python 3 (ipykernel)",
   "language": "python",
   "name": "python3"
  },
  "language_info": {
   "codemirror_mode": {
    "name": "ipython",
    "version": 3
   },
   "file_extension": ".py",
   "mimetype": "text/x-python",
   "name": "python",
   "nbconvert_exporter": "python",
   "pygments_lexer": "ipython3",
   "version": "3.10.9"
  }
 },
 "nbformat": 4,
 "nbformat_minor": 5
}
